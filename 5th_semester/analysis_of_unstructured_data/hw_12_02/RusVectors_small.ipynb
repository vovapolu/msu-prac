{
  "cells": [
    {
      "cell_type": "markdown",
      "metadata": {
        "id": "bvzS_1Dh6zRB"
      },
      "source": [
        "Как запустить программу, используя Google Colab? Сначала на сайте http://vectors.nlpl.eu/repository/ надо скачать необходимую модель (в программе рассматриваю 195 и 212 модели) и распаковать  на гугл диске. \n",
        "Потом в 1 ячейке вас попросят Go to this URL in a browser: ..., надо перейти по ссылке, скопировать код и вставить его в поле Enter your authorization code: ...\n",
        "Затем в 4-5 ячейке в строчке model.load(PATH_TO_ELMO) прописать свой PATH_TO_ELMO."
      ]
    },
    {
      "cell_type": "code",
      "execution_count": 1,
      "metadata": {
        "colab": {
          "base_uri": "https://localhost:8080/"
        },
        "id": "MDO2pscV1Ugt",
        "outputId": "9ad94a79-3ee1-45ad-d704-7e9df70efb20"
      },
      "outputs": [
        {
          "name": "stdout",
          "output_type": "stream",
          "text": [
            "Drive already mounted at /content/drive; to attempt to forcibly remount, call drive.mount(\"/content/drive\", force_remount=True).\n"
          ]
        }
      ],
      "source": [
        "# Подключение гугл-диска для получения модели ELMo\n",
        "from google.colab import drive\n",
        "drive.mount('/content/drive')"
      ]
    },
    {
      "cell_type": "code",
      "execution_count": 2,
      "metadata": {
        "colab": {
          "base_uri": "https://localhost:8080/"
        },
        "id": "ZjuBQKzQ1d8C",
        "outputId": "1ccc0e2e-a9df-468c-83bd-cf22ddde0ded"
      },
      "outputs": [
        {
          "name": "stdout",
          "output_type": "stream",
          "text": [
            "Requirement already satisfied: simple_elmo in /usr/local/lib/python3.7/dist-packages (0.9.0)\n",
            "Requirement already satisfied: pandas in /usr/local/lib/python3.7/dist-packages (from simple_elmo) (1.1.5)\n",
            "Requirement already satisfied: numpy in /usr/local/lib/python3.7/dist-packages (from simple_elmo) (1.19.5)\n",
            "Requirement already satisfied: scipy in /usr/local/lib/python3.7/dist-packages (from simple_elmo) (1.4.1)\n",
            "Requirement already satisfied: h5py in /usr/local/lib/python3.7/dist-packages (from simple_elmo) (3.1.0)\n",
            "Requirement already satisfied: smart-open>1.8.1 in /usr/local/lib/python3.7/dist-packages (from simple_elmo) (5.2.1)\n",
            "Requirement already satisfied: cached-property in /usr/local/lib/python3.7/dist-packages (from h5py->simple_elmo) (1.5.2)\n",
            "Requirement already satisfied: pytz>=2017.2 in /usr/local/lib/python3.7/dist-packages (from pandas->simple_elmo) (2018.9)\n",
            "Requirement already satisfied: python-dateutil>=2.7.3 in /usr/local/lib/python3.7/dist-packages (from pandas->simple_elmo) (2.8.2)\n",
            "Requirement already satisfied: six>=1.5 in /usr/local/lib/python3.7/dist-packages (from python-dateutil>=2.7.3->pandas->simple_elmo) (1.15.0)\n"
          ]
        }
      ],
      "source": [
        "# Установка simple_elmo\n",
        "!pip3 install simple_elmo"
      ]
    },
    {
      "cell_type": "code",
      "execution_count": 3,
      "metadata": {
        "id": "dswuXM581bAJ"
      },
      "outputs": [],
      "source": [
        "# Подключение необходимых библиотек\n",
        "import tensorflow as tf\n",
        "from simple_elmo import ElmoModel"
      ]
    },
    {
      "cell_type": "code",
      "execution_count": 4,
      "metadata": {
        "colab": {
          "base_uri": "https://localhost:8080/",
          "height": 229
        },
        "id": "YLEMCSf2hLY-",
        "outputId": "19d9023e-a1de-433c-c88d-ef2e00d29706"
      },
      "outputs": [
        {
          "name": "stderr",
          "output_type": "stream",
          "text": [
            "2021-11-25 11:29:11,313 : INFO : Loading model from /content/drive/MyDrive/195...\n",
            "2021-11-25 11:29:11,321 : INFO : We will cache the vocabulary of 100 tokens.\n",
            "/usr/local/lib/python3.7/dist-packages/simple_elmo/model.py:531: UserWarning: `tf.nn.rnn_cell.LSTMCell` is deprecated and will be removed in a future version. This class is equivalent as `tf.keras.layers.LSTMCell`, and will be replaced by that in Tensorflow 2.0.\n",
            "  cell_clip=cell_clip, proj_clip=proj_clip)\n",
            "/usr/local/lib/python3.7/dist-packages/keras/layers/legacy_rnn/rnn_cell_impl.py:988: UserWarning: `layer.add_variable` is deprecated and will be removed in a future version. Please use `layer.add_weight` method instead.\n",
            "  partitioner=maybe_partitioner)\n",
            "/usr/local/lib/python3.7/dist-packages/keras/layers/legacy_rnn/rnn_cell_impl.py:996: UserWarning: `layer.add_variable` is deprecated and will be removed in a future version. Please use `layer.add_weight` method instead.\n",
            "  initializer=initializer)\n",
            "/usr/local/lib/python3.7/dist-packages/keras/layers/legacy_rnn/rnn_cell_impl.py:1013: UserWarning: `layer.add_variable` is deprecated and will be removed in a future version. Please use `layer.add_weight` method instead.\n",
            "  partitioner=maybe_proj_partitioner)\n"
          ]
        },
        {
          "data": {
            "application/vnd.google.colaboratory.intrinsic+json": {
              "type": "string"
            },
            "text/plain": [
              "'The model is now loaded.'"
            ]
          },
          "execution_count": 4,
          "metadata": {},
          "output_type": "execute_result"
        }
      ],
      "source": [
        "# Загрузка уже обученной первой модели с гугл-диска\n",
        "# ruwikiruscorpora_tokens_elmo_1024_2019 - модель ELMo, корпус - НКРЯ и Википедия за декабрь 2018 (токены),\n",
        "# размер корпуса 989 миллионов слов\n",
        "model = ElmoModel()\n",
        "model.load('/content/drive/MyDrive/195')\n",
        "# model.load(PATH_TO_ELMO)\n"
      ]
    },
    {
      "cell_type": "code",
      "execution_count": 5,
      "metadata": {
        "id": "TaPvaoTWrJey"
      },
      "outputs": [],
      "source": [
        "# Загрузка уже обученной второй модели с гугл-диска\n",
        "# araneum_lemmas_elmo_2048_2020 - модель ELMo, корпус - Araneum (леммы), \n",
        "# размер корпуса около 10 миллиардов слов\n",
        "\n",
        "# model = ElmoModel()\n",
        "# model.load('/content/drive/MyDrive/212')\n",
        "# model.load(PATH_TO_ELMO)"
      ]
    },
    {
      "cell_type": "code",
      "execution_count": 6,
      "metadata": {
        "id": "C3PGCX67adqY"
      },
      "outputs": [],
      "source": [
        "# Три метода для загруженных моделей\n",
        "\n",
        "# model.get_elmo_vectors(SENTENCES)\n",
        "# Создает тензор эмбеддингов контекстуализированных слов\n",
        "# Его форма: (количество предложений/слов, длина самого длинного предложения/слова, размерность вектора)\n",
        "\n",
        "# model.get_elmo_vector_average(SENTENCES)\n",
        "# Создает тензор с одним вектором на каждое входное предложение/слово, построенный путем усреднения отдельных эмбеддингов контекстуализированных слов\n",
        "# Его форма: (количество предложений/слов, размерность вектора)\n",
        "\n",
        "# model.get_elmo_substitutes(RAW_SENTENCES)\n",
        "# В настоящее время работает только с моделями, загруженными с full=True. \n",
        "# Для каждого входного предложения/слова он создает список лексических заменителей для каждого словесной единицы (токена) в предложении\n",
        "# Этот метод все еще экспериментальный\n",
        "\n",
        "# где SENTENCES - это список предложений (список строк), а RAW_SENTENCES - список предложений как строк."
      ]
    },
    {
      "cell_type": "code",
      "execution_count": 7,
      "metadata": {
        "id": "5y-GqH26lUh-"
      },
      "outputs": [],
      "source": [
        "# Методы\n",
        "\n",
        "# model.get_elmo_vectors(SENTENCES)\n",
        "# model.get_elmo_vector_average(SENTENCES)\n",
        "\n",
        "# могут быть использованы с аргументом layers, который принимает одно из трех значений:\n",
        "# 1) average (по умолчанию): возвращает среднее значение всех слоев ELMo для каждого слова\n",
        "# 2) top: возвращает только верхний (последний) слой для каждого слова\n",
        "# 3) all: возвращает все слои ELMo для каждого слова \n",
        "#    (в полученном тензоре появляется дополнительное измерение, которое равно количеству слоев в модели, как правило, 3)"
      ]
    },
    {
      "cell_type": "code",
      "execution_count": 8,
      "metadata": {
        "id": "Fkjj2sJckqup"
      },
      "outputs": [],
      "source": [
        "# Функция печатает размерности тензоров для каждого метода\n",
        "def print_all_models_dimensions(sent,layers=\"average\"):\n",
        "    '''     :param layers: [\"top\", \"average\", \"all\"].'''\n",
        "    global model\n",
        "    a = model.get_elmo_vectors(sent, layers=layers)\n",
        "    b = model.get_elmo_vector_average(sent, layers=layers)\n",
        "    print(\"a\", a.shape)\n",
        "    print(\"b\", b.shape, end=\"\\n\\n\")"
      ]
    },
    {
      "cell_type": "code",
      "execution_count": 9,
      "metadata": {
        "colab": {
          "base_uri": "https://localhost:8080/"
        },
        "id": "NgDtNyIylJWq",
        "outputId": "0eebad48-ac36-428f-a1c7-8ccbe5aff367"
      },
      "outputs": [
        {
          "name": "stdout",
          "output_type": "stream",
          "text": [
            "top\n"
          ]
        },
        {
          "name": "stderr",
          "output_type": "stream",
          "text": [
            "2021-11-25 11:29:16,144 : INFO : Warming up ELMo on 4 sentences...\n",
            "2021-11-25 11:29:17,941 : INFO : Warming up finished.\n",
            "2021-11-25 11:29:17,943 : INFO : Texts in the current batch: 4\n",
            "2021-11-25 11:29:21,028 : INFO : Warming up ELMo on 4 sentences...\n",
            "2021-11-25 11:29:22,804 : INFO : Warming up finished.\n",
            "2021-11-25 11:29:22,807 : INFO : Texts in the current batch: 4\n"
          ]
        },
        {
          "name": "stdout",
          "output_type": "stream",
          "text": [
            "a (4, 32, 1024)\n",
            "b (4, 1024)\n",
            "\n",
            "average\n"
          ]
        },
        {
          "name": "stderr",
          "output_type": "stream",
          "text": [
            "2021-11-25 11:29:25,857 : INFO : Warming up ELMo on 4 sentences...\n",
            "2021-11-25 11:29:27,701 : INFO : Warming up finished.\n",
            "2021-11-25 11:29:27,703 : INFO : Texts in the current batch: 4\n",
            "2021-11-25 11:29:30,691 : INFO : Warming up ELMo on 4 sentences...\n",
            "2021-11-25 11:29:32,327 : INFO : Warming up finished.\n",
            "2021-11-25 11:29:32,329 : INFO : Texts in the current batch: 4\n"
          ]
        },
        {
          "name": "stdout",
          "output_type": "stream",
          "text": [
            "a (4, 32, 1024)\n",
            "b (4, 1024)\n",
            "\n",
            "all\n"
          ]
        },
        {
          "name": "stderr",
          "output_type": "stream",
          "text": [
            "2021-11-25 11:29:35,191 : INFO : Warming up ELMo on 4 sentences...\n",
            "2021-11-25 11:29:36,876 : INFO : Warming up finished.\n",
            "2021-11-25 11:29:36,880 : INFO : Texts in the current batch: 4\n",
            "2021-11-25 11:29:39,761 : INFO : Warming up ELMo on 4 sentences...\n",
            "2021-11-25 11:29:41,460 : INFO : Warming up finished.\n",
            "2021-11-25 11:29:41,465 : INFO : Texts in the current batch: 4\n"
          ]
        },
        {
          "name": "stdout",
          "output_type": "stream",
          "text": [
            "a (4, 3, 32, 1024)\n",
            "b (4, 3, 1024)\n",
            "\n"
          ]
        }
      ],
      "source": [
        "# Продемонстрируем формы полученных тензоров каждого метода для одного и того же предложения\n",
        "sent = [\"Мама мыла Милу мылом\", \"Кукушка кукушонку купила капюшон\", \"да\", \"нет\"]\n",
        "for lay in [\"top\", \"average\", \"all\"]:\n",
        "    print(lay)\n",
        "    print_all_models_dimensions(sent,layers=lay)"
      ]
    },
    {
      "cell_type": "markdown",
      "metadata": {
        "id": "Ud7kBLHEw7yl"
      },
      "source": [
        "Теперь будем печатать модели и смотреть на результаты"
      ]
    },
    {
      "cell_type": "markdown",
      "metadata": {
        "id": "BIpChCNN2wkG"
      },
      "source": [
        "Рассмотрим метод model.get_elmo_vectors()"
      ]
    },
    {
      "cell_type": "code",
      "execution_count": 10,
      "metadata": {
        "id": "FPJ18mxLyJZB"
      },
      "outputs": [],
      "source": [
        "# Функция использует метод model.get_elmo_vectors() и печатает модели\n",
        "# Метод model.get_elmo_vectors() создает тензор эмбеддингов контекстуализированных слов\n",
        "# Его форма: (количество предложений/слов, длина самого длинного предложения/слова, размерность вектора)\n",
        "def print_vectors(sent,layers=\"average\"):\n",
        "    '''     :param layers: [\"top\", \"average\", \"all\"].'''\n",
        "    global model\n",
        "    a = model.get_elmo_vectors(sent, layers=layers)\n",
        "    print(\"Форма\", a.shape)\n",
        "    print(a)"
      ]
    },
    {
      "cell_type": "code",
      "execution_count": 11,
      "metadata": {
        "colab": {
          "base_uri": "https://localhost:8080/"
        },
        "id": "jYaOJdIby_NI",
        "outputId": "8d0828e0-4abe-478c-c0db-c03ef15731d7"
      },
      "outputs": [
        {
          "name": "stderr",
          "output_type": "stream",
          "text": [
            "2021-11-25 11:29:44,326 : INFO : Warming up ELMo on 1 sentences...\n",
            "2021-11-25 11:29:44,766 : INFO : Warming up finished.\n",
            "2021-11-25 11:29:44,770 : INFO : Texts in the current batch: 1\n"
          ]
        },
        {
          "name": "stdout",
          "output_type": "stream",
          "text": [
            "Форма (1, 1, 1024)\n",
            "[[[ 0.86061847  1.44575453 -0.91123194 ...  1.80539846  1.13726866\n",
            "    1.71431446]]]\n"
          ]
        },
        {
          "name": "stderr",
          "output_type": "stream",
          "text": [
            "2021-11-25 11:29:46,374 : INFO : Warming up ELMo on 1 sentences...\n",
            "2021-11-25 11:29:46,811 : INFO : Warming up finished.\n",
            "2021-11-25 11:29:46,813 : INFO : Texts in the current batch: 1\n"
          ]
        },
        {
          "name": "stdout",
          "output_type": "stream",
          "text": [
            "Форма (1, 1, 1024)\n",
            "[[[ 0.60173023  0.71872169 -0.15079565 ...  0.9815833   0.97378981\n",
            "    0.93340296]]]\n"
          ]
        },
        {
          "name": "stderr",
          "output_type": "stream",
          "text": [
            "2021-11-25 11:29:48,416 : INFO : Warming up ELMo on 1 sentences...\n",
            "2021-11-25 11:29:48,855 : INFO : Warming up finished.\n",
            "2021-11-25 11:29:48,858 : INFO : Texts in the current batch: 1\n"
          ]
        },
        {
          "name": "stdout",
          "output_type": "stream",
          "text": [
            "Форма (1, 3, 1, 1024)\n",
            "[[[[ 2.99432427e-01 -1.51988789e-01  5.61561167e-01 ...  1.66782737e-03\n",
            "     7.64528394e-01 -1.64312974e-01]]\n",
            "\n",
            "  [[ 6.45139873e-01  8.62399280e-01 -1.02716163e-01 ...  1.13768363e+00\n",
            "     1.01957214e+00  1.25020719e+00]]\n",
            "\n",
            "  [[ 8.60618472e-01  1.44575453e+00 -9.11231935e-01 ...  1.80539846e+00\n",
            "     1.13726866e+00  1.71431446e+00]]]]\n"
          ]
        }
      ],
      "source": [
        "# Посмотрим, какие будут результаты при использовании метода model.get_elmo_vectors(), когда список предложений - одна буква \n",
        "\n",
        "# top: возвращает только верхний (последний) слой для каждого слова \n",
        "lay = \"top\"\n",
        "print_vectors(['C'],layers=lay)\n",
        "# average: возвращает среднее значение всех слоев ELMo для каждого слова\n",
        "lay = \"average\"\n",
        "print_vectors(['C'],layers=lay)\n",
        "# all: возвращает все слои ELMo для каждого слова\n",
        "lay = \"all\"\n",
        "print_vectors(['C'],layers=lay)"
      ]
    },
    {
      "cell_type": "code",
      "execution_count": 12,
      "metadata": {
        "colab": {
          "base_uri": "https://localhost:8080/"
        },
        "id": "9eozFRyPzp-A",
        "outputId": "62e57339-be20-4069-ecd2-70985064eb8c"
      },
      "outputs": [
        {
          "name": "stderr",
          "output_type": "stream",
          "text": [
            "2021-11-25 11:29:50,457 : INFO : Warming up ELMo on 1 sentences...\n",
            "2021-11-25 11:29:50,930 : INFO : Warming up finished.\n",
            "2021-11-25 11:29:50,932 : INFO : Texts in the current batch: 1\n"
          ]
        },
        {
          "name": "stdout",
          "output_type": "stream",
          "text": [
            "Форма (1, 1, 1024)\n",
            "[[[ 0.86061847  1.44575453 -0.91123194 ...  1.80539846  1.13726866\n",
            "    1.71431446]]]\n"
          ]
        },
        {
          "name": "stderr",
          "output_type": "stream",
          "text": [
            "2021-11-25 11:29:52,543 : INFO : Warming up ELMo on 1 sentences...\n",
            "2021-11-25 11:29:53,081 : INFO : Warming up finished.\n",
            "2021-11-25 11:29:53,085 : INFO : Texts in the current batch: 1\n"
          ]
        },
        {
          "name": "stdout",
          "output_type": "stream",
          "text": [
            "Форма (1, 6, 1024)\n",
            "[[[ 0.50125808  0.73326051 -1.11137652 ...  2.7036283  -0.38611746\n",
            "   -0.17127168]\n",
            "  [ 0.84074777  0.31502247 -2.14742041 ...  2.52195454 -0.06385642\n",
            "    0.16362442]\n",
            "  [ 1.68282747  0.37636515 -3.50920868 ...  3.42320871  0.0869143\n",
            "    0.56745118]\n",
            "  [ 1.63885427 -0.25165784 -3.01090479 ...  2.79699707  1.20367312\n",
            "    1.35700977]\n",
            "  [ 1.07119775 -0.50933099 -2.25852633 ...  2.26811719  0.49746507\n",
            "    0.37013188]\n",
            "  [ 1.12704933 -0.34990138 -1.82632601 ...  2.47980738 -1.00205612\n",
            "    1.27607942]]]\n"
          ]
        }
      ],
      "source": [
        "# Сравним полученные значения, когда в предложении-слове одна буква и несколько \n",
        "# Параметр layers=\"top\"\n",
        "lay = \"top\"\n",
        "print_vectors(['C'],layers=lay)\n",
        "print_vectors(['Солнце'],layers=lay)\n",
        "# Видим, что добавленные буквы сильно повлияли на первый вектор"
      ]
    },
    {
      "cell_type": "code",
      "execution_count": 13,
      "metadata": {
        "colab": {
          "base_uri": "https://localhost:8080/"
        },
        "id": "5iyal82G1lKs",
        "outputId": "d301b6b9-dafb-4636-e131-380faf57fd83"
      },
      "outputs": [
        {
          "name": "stderr",
          "output_type": "stream",
          "text": [
            "2021-11-25 11:29:54,820 : INFO : Warming up ELMo on 1 sentences...\n",
            "2021-11-25 11:29:55,327 : INFO : Warming up finished.\n",
            "2021-11-25 11:29:55,331 : INFO : Texts in the current batch: 1\n"
          ]
        },
        {
          "name": "stdout",
          "output_type": "stream",
          "text": [
            "Форма (1, 1, 1024)\n",
            "[[[ 0.60173023  0.71872169 -0.15079565 ...  0.9815833   0.97378981\n",
            "    0.93340296]]]\n"
          ]
        },
        {
          "name": "stderr",
          "output_type": "stream",
          "text": [
            "2021-11-25 11:29:56,948 : INFO : Warming up ELMo on 1 sentences...\n",
            "2021-11-25 11:29:57,476 : INFO : Warming up finished.\n",
            "2021-11-25 11:29:57,479 : INFO : Texts in the current batch: 1\n"
          ]
        },
        {
          "name": "stdout",
          "output_type": "stream",
          "text": [
            "Форма (1, 6, 1024)\n",
            "[[[ 0.3104772   0.2157902  -0.46882367 ...  0.87072319  0.03332976\n",
            "    0.19499825]\n",
            "  [ 0.50034463 -0.12245125 -0.97297621 ...  0.98857832 -0.33039621\n",
            "    0.15170544]\n",
            "  [ 1.11255717  0.12209521 -1.93707991 ...  1.38206291 -0.02820494\n",
            "    0.03567788]\n",
            "  [ 0.923729   -0.13296174 -1.5528574  ...  1.29628849  0.77010071\n",
            "    0.36233091]\n",
            "  [ 0.38529739 -0.29916087 -1.17993355 ...  0.83156431  0.23920073\n",
            "    0.01906233]\n",
            "  [ 0.52817988 -0.2861177  -0.73361504 ...  1.12374091 -0.44203484\n",
            "    0.43385598]]]\n"
          ]
        }
      ],
      "source": [
        "# Сравним полученные значения, когда в предложении-слове одна буква и несколько \n",
        "# Параметр layers=\"average\"\n",
        "lay = \"average\"\n",
        "print_vectors(['C'],layers=lay)\n",
        "print_vectors(['Солнце'],layers=lay)"
      ]
    },
    {
      "cell_type": "code",
      "execution_count": 14,
      "metadata": {
        "colab": {
          "base_uri": "https://localhost:8080/"
        },
        "id": "slyfH1po1onh",
        "outputId": "72983cd8-2d00-46fa-8b37-b769fd654204"
      },
      "outputs": [
        {
          "name": "stderr",
          "output_type": "stream",
          "text": [
            "2021-11-25 11:29:59,206 : INFO : Warming up ELMo on 1 sentences...\n",
            "2021-11-25 11:29:59,635 : INFO : Warming up finished.\n",
            "2021-11-25 11:29:59,641 : INFO : Texts in the current batch: 1\n"
          ]
        },
        {
          "name": "stdout",
          "output_type": "stream",
          "text": [
            "Форма (1, 3, 1, 1024)\n",
            "[[[[ 2.99432427e-01 -1.51988789e-01  5.61561167e-01 ...  1.66782737e-03\n",
            "     7.64528394e-01 -1.64312974e-01]]\n",
            "\n",
            "  [[ 6.45139873e-01  8.62399280e-01 -1.02716163e-01 ...  1.13768363e+00\n",
            "     1.01957214e+00  1.25020719e+00]]\n",
            "\n",
            "  [[ 8.60618472e-01  1.44575453e+00 -9.11231935e-01 ...  1.80539846e+00\n",
            "     1.13726866e+00  1.71431446e+00]]]]\n"
          ]
        },
        {
          "name": "stderr",
          "output_type": "stream",
          "text": [
            "2021-11-25 11:30:01,275 : INFO : Warming up ELMo on 1 sentences...\n",
            "2021-11-25 11:30:01,839 : INFO : Warming up finished.\n",
            "2021-11-25 11:30:01,841 : INFO : Texts in the current batch: 1\n"
          ]
        },
        {
          "name": "stdout",
          "output_type": "stream",
          "text": [
            "Форма (1, 3, 6, 1024)\n",
            "[[[[-0.27940181 -0.25546205  0.10033454 ... -0.54121947  0.50628746\n",
            "     0.16890295]\n",
            "   [ 0.20784038 -0.44677243  0.26922119 ... -0.13477522 -0.29920432\n",
            "     0.01746514]\n",
            "   [ 0.47425175  0.00379109 -0.34129229 ... -0.11852518 -0.01698089\n",
            "    -0.73052305]\n",
            "   [ 0.67617261  0.60648501 -0.46132857 ...  0.38007051  0.40534797\n",
            "    -0.3412748 ]\n",
            "   [-0.34735003 -0.20154616 -0.4757106  ... -0.54419243 -0.30258816\n",
            "    -0.56150657]\n",
            "   [ 0.21964008 -0.36956239  0.05229902 ... -0.26632386 -0.08001852\n",
            "     0.19626902]]\n",
            "\n",
            "  [[ 0.70957524  0.16957214 -0.39542907 ...  0.44976065 -0.0201807\n",
            "     0.58736348]\n",
            "   [ 0.4524456  -0.23560381 -1.04072928 ...  0.57855558 -0.62812787\n",
            "     0.27402675]\n",
            "   [ 1.18059206 -0.01387062 -1.96073854 ...  0.84150487 -0.15454823\n",
            "     0.27010548]\n",
            "   [ 0.45616001 -0.7537123  -1.18633878 ...  0.71179754  0.70128095\n",
            "     0.07125774]\n",
            "   [ 0.43204445 -0.18660539 -0.80556363 ...  0.77076817  0.52272522\n",
            "     0.24856168]\n",
            "   [ 0.23785029 -0.13888931 -0.42681792 ...  1.15773916 -0.24402985\n",
            "    -0.17078055]]\n",
            "\n",
            "  [[ 0.50125808  0.73326051 -1.11137652 ...  2.7036283  -0.38611746\n",
            "    -0.17127168]\n",
            "   [ 0.84074777  0.31502247 -2.14742041 ...  2.52195454 -0.06385642\n",
            "     0.16362442]\n",
            "   [ 1.68282747  0.37636515 -3.50920868 ...  3.42320871  0.0869143\n",
            "     0.56745118]\n",
            "   [ 1.63885427 -0.25165784 -3.01090479 ...  2.79699707  1.20367312\n",
            "     1.35700977]\n",
            "   [ 1.07119775 -0.50933099 -2.25852633 ...  2.26811719  0.49746507\n",
            "     0.37013188]\n",
            "   [ 1.12704933 -0.34990138 -1.82632601 ...  2.47980738 -1.00205612\n",
            "     1.27607942]]]]\n"
          ]
        }
      ],
      "source": [
        "# Сравним полученные значения, когда в предложении-слове одна буква и несколько \n",
        "# Параметр layers=\"all\"\n",
        "lay = \"all\"\n",
        "print_vectors(['C'],layers=lay)\n",
        "print_vectors(['Солнце'],layers=lay)"
      ]
    },
    {
      "cell_type": "code",
      "execution_count": 15,
      "metadata": {
        "colab": {
          "base_uri": "https://localhost:8080/"
        },
        "id": "xJltz5CJ2Cdu",
        "outputId": "2f791e06-fa86-4524-b504-96c8fcb2286c"
      },
      "outputs": [
        {
          "name": "stderr",
          "output_type": "stream",
          "text": [
            "2021-11-25 11:30:03,593 : INFO : Warming up ELMo on 1 sentences...\n",
            "2021-11-25 11:30:04,621 : INFO : Warming up finished.\n",
            "2021-11-25 11:30:04,624 : INFO : Texts in the current batch: 1\n"
          ]
        },
        {
          "data": {
            "text/plain": [
              "array([[[ 0.1313034 , -0.12131756, -0.08123291, ...,  1.03422034,\n",
              "          0.40445441,  0.29501086],\n",
              "        [ 0.22561011,  0.58067346, -0.0998593 , ...,  1.62604952,\n",
              "          0.18520275,  0.21451254],\n",
              "        [ 0.92283142,  0.16670758, -1.19994688, ...,  1.74934936,\n",
              "          0.45389366,  0.2412398 ],\n",
              "        ...,\n",
              "        [ 0.55320525, -0.31316575, -0.68868625, ...,  0.02721696,\n",
              "          0.01263693,  0.19226775],\n",
              "        [ 1.01327348,  0.0982054 , -0.49989313, ..., -0.02327866,\n",
              "          0.06692711,  0.22869353],\n",
              "        [ 1.01651406,  0.09126005, -0.87948084, ...,  0.21478069,\n",
              "         -0.22000933,  1.03982294]]])"
            ]
          },
          "execution_count": 15,
          "metadata": {},
          "output_type": "execute_result"
        }
      ],
      "source": [
        "# Рассмотрим другие примеры использования метода get_elmo_vectors()\n",
        "# Аргумент layers по умолчанию average\n",
        "# В следующем примере уменьшим количество слов в предложении\n",
        "model.get_elmo_vectors(['В мире лучше нет пока факультета ВМК'])"
      ]
    },
    {
      "cell_type": "code",
      "execution_count": 16,
      "metadata": {
        "colab": {
          "base_uri": "https://localhost:8080/"
        },
        "id": "8LJqyuzyLF9d",
        "outputId": "c11cbed8-dc2d-4553-8e57-016234896286"
      },
      "outputs": [
        {
          "name": "stderr",
          "output_type": "stream",
          "text": [
            "2021-11-25 11:30:06,788 : INFO : Warming up ELMo on 1 sentences...\n",
            "2021-11-25 11:30:07,509 : INFO : Warming up finished.\n",
            "2021-11-25 11:30:07,511 : INFO : Texts in the current batch: 1\n"
          ]
        },
        {
          "data": {
            "text/plain": [
              "array([[[ 0.13198102, -0.12111413, -0.07960892, ...,  0.86078119,\n",
              "          0.26943812,  0.22242771],\n",
              "        [ 0.22527501,  0.57932043, -0.09773356, ...,  1.46605468,\n",
              "          0.23988773,  0.37336186],\n",
              "        [ 0.92339098,  0.16587734, -1.19996905, ...,  1.65035558,\n",
              "          0.52199495,  0.36059803],\n",
              "        ...,\n",
              "        [ 0.98873317, -0.05461198, -1.3313247 , ...,  1.44661069,\n",
              "          0.29776347,  0.23512229],\n",
              "        [ 0.85863769, -0.10209035, -0.88404036, ...,  1.25510216,\n",
              "          0.13701285,  0.7305789 ],\n",
              "        [ 1.23862624, -0.34339851, -1.11089957, ...,  0.67439401,\n",
              "          0.08244018,  0.59860301]]])"
            ]
          },
          "execution_count": 16,
          "metadata": {},
          "output_type": "execute_result"
        }
      ],
      "source": [
        "# Рассмотрим другие примеры использования метода get_elmo_vectors()\n",
        "# Аргумент layers по умолчанию average\n",
        "# В предыдущем примере слов в предложении больше\n",
        "model.get_elmo_vectors(['В мире лучше нет'])"
      ]
    },
    {
      "cell_type": "code",
      "execution_count": 17,
      "metadata": {
        "colab": {
          "base_uri": "https://localhost:8080/"
        },
        "id": "U3m3wI1knvPN",
        "outputId": "77c58c30-b0f4-45cc-a0ed-434d9e10edc1"
      },
      "outputs": [
        {
          "name": "stderr",
          "output_type": "stream",
          "text": [
            "2021-11-25 11:30:09,440 : INFO : Warming up ELMo on 1 sentences...\n",
            "2021-11-25 11:30:10,008 : INFO : Warming up finished.\n",
            "2021-11-25 11:30:10,010 : INFO : Texts in the current batch: 1\n"
          ]
        },
        {
          "name": "stdout",
          "output_type": "stream",
          "text": [
            "[[[ 2.41617113e-01  3.58703554e-01 -9.39772964e-01 ...  1.07352829e+00\n",
            "    3.58950049e-01  9.95523334e-02]\n",
            "  [ 5.12566626e-01  1.06879920e-02 -1.39657927e+00 ...  1.35111809e+00\n",
            "   -1.13579445e-01  3.53425354e-01]\n",
            "  [ 5.75857759e-01 -2.59993494e-01 -1.07944059e+00 ...  1.61270499e+00\n",
            "   -1.50069371e-01  7.31355369e-01]\n",
            "  ...\n",
            "  [ 5.57521343e-01  5.30540943e-04 -9.60358381e-01 ...  6.85038686e-01\n",
            "    7.17059225e-02  8.44620392e-02]\n",
            "  [ 5.96490860e-01  3.73895645e-01 -1.11542892e+00 ...  7.43693233e-01\n",
            "    1.56911299e-01 -2.70184129e-04]\n",
            "  [ 9.17204857e-01 -6.61958605e-02 -1.78462172e+00 ...  7.98408926e-01\n",
            "   -1.25463665e-01  7.49929547e-02]]]\n",
            "Другой пример:\n"
          ]
        },
        {
          "name": "stderr",
          "output_type": "stream",
          "text": [
            "2021-11-25 11:30:11,783 : INFO : Warming up ELMo on 2 sentences...\n",
            "2021-11-25 11:30:12,638 : INFO : Warming up finished.\n",
            "2021-11-25 11:30:12,640 : INFO : Texts in the current batch: 2\n"
          ]
        },
        {
          "name": "stdout",
          "output_type": "stream",
          "text": [
            "[[[ 2.41617128e-01  3.58703226e-01 -9.39773023e-01 ...  1.07352841e+00\n",
            "    3.58950019e-01  9.95524824e-02]\n",
            "  [ 5.12566566e-01  1.06882453e-02 -1.39657962e+00 ...  1.35111797e+00\n",
            "   -1.13579415e-01  3.53425384e-01]\n",
            "  [ 5.75857818e-01 -2.59993404e-01 -1.07944012e+00 ...  1.61270452e+00\n",
            "   -1.50069267e-01  7.31355667e-01]\n",
            "  ...\n",
            "  [ 5.57521284e-01  5.30339777e-04 -9.60358202e-01 ...  6.85038626e-01\n",
            "    7.17061237e-02  8.44624862e-02]\n",
            "  [ 5.96490741e-01  3.73895526e-01 -1.11542916e+00 ...  7.43693411e-01\n",
            "    1.56910956e-01 -2.70701945e-04]\n",
            "  [ 9.17204916e-01 -6.61955401e-02 -1.78462231e+00 ...  7.98409045e-01\n",
            "   -1.25463724e-01  7.49929547e-02]]\n",
            "\n",
            " [[ 2.38944247e-01  3.56565624e-01 -9.46540058e-01 ...  9.40281153e-01\n",
            "    1.38594151e-01  1.58228695e-01]\n",
            "  [ 5.08360922e-01  7.77240098e-03 -1.39798927e+00 ...  1.48005986e+00\n",
            "    6.12859316e-02  2.59538770e-01]\n",
            "  [ 5.74713409e-01 -2.60177493e-01 -1.07887709e+00 ...  1.34585166e+00\n",
            "   -1.27201885e-01  2.78426886e-01]\n",
            "  ...\n",
            "  [ 5.57650089e-01  7.52590597e-04 -9.62083459e-01 ...  6.24904335e-01\n",
            "   -1.62870064e-01 -1.48335159e-01]\n",
            "  [ 8.89979422e-01  5.47939129e-02 -1.41087222e+00 ...  3.29084873e-01\n",
            "   -2.35499889e-01 -2.44127914e-01]\n",
            "  [ 1.03339803e+00  5.13294756e-01 -7.37586856e-01 ...  1.16760015e+00\n",
            "   -2.08872721e-01  6.14692159e-02]]]\n"
          ]
        }
      ],
      "source": [
        "# Рассмотрим метод get_elmo_vectors()\n",
        "# Заметим, что начало одного списка слов (предложений) так же начало и второго\n",
        "print(model.get_elmo_vectors(['красивый']))\n",
        "print(\"Другой пример:\")\n",
        "print(model.get_elmo_vectors(['красивый', 'красивая']))\n",
        "# Из-за того, что список слов-предложений начинается со слова \"красивый\" - начала двух выводов почти одинаковые\n",
        "# А так как они ПОЧТИ одинаковые - видим, что во втором случае наличие другого предложения в списке повлияло на весь результат  "
      ]
    },
    {
      "cell_type": "code",
      "execution_count": 18,
      "metadata": {
        "colab": {
          "base_uri": "https://localhost:8080/"
        },
        "id": "h9_Nktwn4kiq",
        "outputId": "e3ee7bce-8a37-415f-b0de-a01a68e69815"
      },
      "outputs": [
        {
          "name": "stderr",
          "output_type": "stream",
          "text": [
            "2021-11-25 11:30:14,656 : INFO : Warming up ELMo on 2 sentences...\n",
            "2021-11-25 11:30:15,762 : INFO : Warming up finished.\n",
            "2021-11-25 11:30:15,764 : INFO : Texts in the current batch: 2\n"
          ]
        },
        {
          "name": "stdout",
          "output_type": "stream",
          "text": [
            "Форма (2, 15, 1024)\n",
            "[[[ 1.50837541  0.00189818 -0.47272032 ...  0.88786316  0.14838476\n",
            "    0.28213468]\n",
            "  [ 1.35771918 -0.61596864 -1.20486283 ...  1.21070266  0.50832617\n",
            "   -0.63242555]\n",
            "  [ 0.54567772 -0.55287021 -1.15211368 ...  1.16069627  0.25152826\n",
            "   -0.15063646]\n",
            "  ...\n",
            "  [ 0.41598046  0.02189328  0.04216135 ...  0.35522303  0.05011513\n",
            "   -0.10625631]\n",
            "  [ 0.03854536 -0.00229315 -0.0251717  ... -0.03766255 -0.01689689\n",
            "   -0.02865478]\n",
            "  [ 0.03854536 -0.00229315 -0.0251717  ... -0.03766255 -0.01689689\n",
            "   -0.02865478]]\n",
            "\n",
            " [[ 1.50823212  0.00253489 -0.47263554 ...  1.07749772  0.01867655\n",
            "    0.24989401]\n",
            "  [ 1.35779142 -0.61531043 -1.20435083 ...  1.51035273  0.17277592\n",
            "   -0.63391912]\n",
            "  [ 0.54554939 -0.55231804 -1.15190268 ...  1.38604903  0.03419793\n",
            "   -0.26437581]\n",
            "  ...\n",
            "  [ 1.28154325 -0.32237926 -0.86610633 ...  0.79724646  0.55102885\n",
            "    0.07296157]\n",
            "  [ 0.86668503 -0.24512097 -0.83697414 ...  0.57444072  0.42850387\n",
            "   -0.11000825]\n",
            "  [ 0.47635126  0.09678882 -0.27967325 ...  0.354431    0.04970815\n",
            "   -0.10668235]]]\n"
          ]
        },
        {
          "name": "stderr",
          "output_type": "stream",
          "text": [
            "2021-11-25 11:30:18,060 : INFO : Warming up ELMo on 1 sentences...\n",
            "2021-11-25 11:30:18,752 : INFO : Warming up finished.\n",
            "2021-11-25 11:30:18,754 : INFO : Texts in the current batch: 1\n"
          ]
        },
        {
          "name": "stdout",
          "output_type": "stream",
          "text": [
            "Форма (1, 17, 1024)\n",
            "[[[ 1.11886787 -0.46501881 -0.24220818 ...  1.14799488  0.14860374\n",
            "    0.23706193]\n",
            "  [ 0.94719797 -0.73210537 -0.42471552 ...  1.61914921  0.58876139\n",
            "    0.26841718]\n",
            "  [ 0.64769113 -0.55810839 -0.0775207  ...  1.69790268  0.59593523\n",
            "    0.53261268]\n",
            "  ...\n",
            "  [ 0.73775393 -0.15639254 -0.07190529 ...  1.43567204  0.8667978\n",
            "    0.16254734]\n",
            "  [ 1.35448384 -0.53317618 -1.04140472 ...  0.06173787  0.38980961\n",
            "    0.1514089 ]\n",
            "  [ 0.86114711 -1.29722738 -0.15929613 ...  0.51285839  0.67635083\n",
            "    0.4480809 ]]]\n"
          ]
        }
      ],
      "source": [
        "lay = \"average\"\n",
        "print_vectors(['Яркое солнце.', 'Яркая личность.'],layers=lay)\n",
        "print_vectors(['Ля ля ля жу жу жу'],layers=lay)\n",
        "# Видим, что из-за разных списков предложений - результаты совершенно разные"
      ]
    },
    {
      "cell_type": "markdown",
      "metadata": {
        "id": "f7XQ8zOO5LYM"
      },
      "source": [
        "Рассмотрим метод model.get_elmo_vector_average(), который параллельно будем сравнивать с методом model.get_elmo_vectors()\n",
        "\n",
        "---\n",
        "\n"
      ]
    },
    {
      "cell_type": "code",
      "execution_count": 19,
      "metadata": {
        "id": "GDnJzEKclOrs"
      },
      "outputs": [],
      "source": [
        "# Функция печатает модели\n",
        "def print_all(sent,layers=\"average\"):\n",
        "    '''     :param layers: [\"top\", \"average\", \"all\"].'''\n",
        "    global model\n",
        "# model.get_elmo_vectors() cоздает тензор эмбеддингов контекстуализированных слов   \n",
        "    a = model.get_elmo_vectors(sent, layers=layers)\n",
        "# model.get_elmo_vector_average создает тензор с одним вектором на каждое входное предложение/слово, построенный путем усреднения отдельных эмбеддингов контекстуализированных слов\n",
        "    b = model.get_elmo_vector_average(sent, layers=layers)\n",
        "    print(\"Форма 1\", a.shape)\n",
        "    print(a, end=\"\\n\\n\")\n",
        "    print(\"Форма 2\", b.shape)\n",
        "    print(b)"
      ]
    },
    {
      "cell_type": "code",
      "execution_count": 20,
      "metadata": {
        "colab": {
          "base_uri": "https://localhost:8080/"
        },
        "id": "UnCctbgsoxPL",
        "outputId": "1caca8dc-b442-4b5f-d9bb-459d6fe657ef"
      },
      "outputs": [
        {
          "name": "stderr",
          "output_type": "stream",
          "text": [
            "2021-11-25 11:30:20,614 : INFO : Warming up ELMo on 1 sentences...\n",
            "2021-11-25 11:30:21,338 : INFO : Warming up finished.\n",
            "2021-11-25 11:30:21,340 : INFO : Texts in the current batch: 1\n",
            "2021-11-25 11:30:23,232 : INFO : Warming up ELMo on 1 sentences...\n",
            "2021-11-25 11:30:23,973 : INFO : Warming up finished.\n",
            "2021-11-25 11:30:23,975 : INFO : Texts in the current batch: 1\n"
          ]
        },
        {
          "name": "stdout",
          "output_type": "stream",
          "text": [
            "Форма 1 (1, 17, 1024)\n",
            "[[[ 2.11203456 -0.1170463  -0.17109144 ...  2.77231503  0.53720772\n",
            "   -0.39827573]\n",
            "  [ 0.82893145 -0.52258772 -1.54230678 ...  2.9964819   0.95313847\n",
            "   -0.32006931]\n",
            "  [ 2.37011099 -1.45749044  0.33541381 ...  2.95960808  0.9661839\n",
            "    0.39604104]\n",
            "  ...\n",
            "  [ 2.52314019  0.03111349 -1.6286974  ...  2.32870221  1.77362871\n",
            "    0.20502096]\n",
            "  [ 2.30511928 -0.74425614 -1.68397427 ...  0.68820286  2.58563232\n",
            "   -0.05486786]\n",
            "  [ 2.37636805 -1.56783497 -0.76659375 ...  1.70950174  1.38486302\n",
            "    0.780954  ]]]\n",
            "\n",
            "Форма 2 (1, 1024)\n",
            "[[ 0.07336734 -0.02232702 -0.04364292 ...  0.06685403  0.0271359\n",
            "  -0.00459287]]\n"
          ]
        }
      ],
      "source": [
        "# Рассмотрим, какие будут результаты при одном и том же предложении\n",
        "# Параметр layers=\"top\"\n",
        "# average: возвращает среднее значение всех слоев ELMo для каждого слова\n",
        "sent = [\"Мама кушала кашку\"]\n",
        "lay = \"top\"\n",
        "print_all(sent,layers=lay)"
      ]
    },
    {
      "cell_type": "code",
      "execution_count": 21,
      "metadata": {
        "colab": {
          "base_uri": "https://localhost:8080/"
        },
        "id": "jflNRJvDpEgW",
        "outputId": "ccd88df1-8169-4702-a890-32ff5123d110"
      },
      "outputs": [
        {
          "name": "stderr",
          "output_type": "stream",
          "text": [
            "2021-11-25 11:30:25,813 : INFO : Warming up ELMo on 1 sentences...\n",
            "2021-11-25 11:30:26,555 : INFO : Warming up finished.\n",
            "2021-11-25 11:30:26,557 : INFO : Texts in the current batch: 1\n",
            "2021-11-25 11:30:28,470 : INFO : Warming up ELMo on 1 sentences...\n",
            "2021-11-25 11:30:29,175 : INFO : Warming up finished.\n",
            "2021-11-25 11:30:29,177 : INFO : Texts in the current batch: 1\n"
          ]
        },
        {
          "name": "stdout",
          "output_type": "stream",
          "text": [
            "Форма 1 (1, 17, 1024)\n",
            "[[[ 1.21803379  0.12034535  0.27359086 ...  1.27048576  0.40137035\n",
            "   -0.24116229]\n",
            "  [ 0.28636697 -0.18681601 -0.87329924 ...  1.46091509  0.44747242\n",
            "    0.18993494]\n",
            "  [ 1.31987953 -0.67458653  0.1439119  ...  1.44570017  0.68538851\n",
            "    0.04946892]\n",
            "  ...\n",
            "  [ 0.7730782   0.22690843 -0.61023843 ...  1.02540863  1.07701445\n",
            "    0.16848481]\n",
            "  [ 0.71712822 -0.37878066 -0.89696711 ...  0.32003009  1.33391833\n",
            "   -0.24076344]\n",
            "  [ 0.80541557 -0.84594512 -0.20996433 ...  0.51590019  0.67106009\n",
            "    0.45016003]]]\n",
            "\n",
            "Форма 2 (1, 1024)\n",
            "[[ 0.06189798 -0.0210917  -0.04577666 ...  0.07326053  0.03530141\n",
            "   0.00399721]]\n"
          ]
        }
      ],
      "source": [
        "# Рассмотрим, какие будут результаты при одном и том же предложении\n",
        "# Параметр layers=\"average\"\n",
        "# average: возвращает среднее значение всех слоев ELMo для каждого слова\n",
        "sent = [\"Мама кушала кашку\"]\n",
        "lay = \"average\"\n",
        "print_all(sent,layers=lay)"
      ]
    },
    {
      "cell_type": "code",
      "execution_count": 22,
      "metadata": {
        "colab": {
          "base_uri": "https://localhost:8080/"
        },
        "id": "V-5P36FjpE3q",
        "outputId": "db288ef4-ff65-4f08-b441-0b8cc120f80d"
      },
      "outputs": [
        {
          "name": "stderr",
          "output_type": "stream",
          "text": [
            "2021-11-25 11:30:31,064 : INFO : Warming up ELMo on 1 sentences...\n",
            "2021-11-25 11:30:31,737 : INFO : Warming up finished.\n",
            "2021-11-25 11:30:31,739 : INFO : Texts in the current batch: 1\n",
            "2021-11-25 11:30:33,561 : INFO : Warming up ELMo on 1 sentences...\n",
            "2021-11-25 11:30:34,299 : INFO : Warming up finished.\n",
            "2021-11-25 11:30:34,301 : INFO : Texts in the current batch: 1\n"
          ]
        },
        {
          "name": "stdout",
          "output_type": "stream",
          "text": [
            "Форма 1 (1, 3, 17, 1024)\n",
            "[[[[ 0.11345284 -0.09297864  0.86556941 ...  0.10478152  0.56670475\n",
            "    -0.64680988]\n",
            "   [-0.23314303  0.25216869 -0.38828722 ...  0.17374416  0.13452455\n",
            "     1.01723826]\n",
            "   [ 0.29592168  0.2672734   0.0842607  ...  0.14212354  0.73466754\n",
            "    -0.457304  ]\n",
            "   ...\n",
            "   [-0.62100011  0.61970913  0.42613003 ... -0.03038463  0.32250366\n",
            "     0.47903669]\n",
            "   [ 0.09536729  0.06667153 -0.42344946 ...  0.59812045  0.13167918\n",
            "    -0.16482505]\n",
            "   [ 0.18116125 -0.31841823  0.30673331 ... -0.06797762 -0.3049981\n",
            "     0.42580026]]\n",
            "\n",
            "  [[ 1.4286139   0.57106096  0.12629458 ...  0.9343605   0.10019851\n",
            "     0.32159877]\n",
            "   [ 0.26331246 -0.29002893 -0.68930358 ...  1.21251893  0.25475416\n",
            "    -0.12736416]\n",
            "   [ 1.29360592 -0.83354253  0.01206116 ...  1.23536873  0.35531405\n",
            "     0.20966974]\n",
            "   ...\n",
            "   [ 0.41709444  0.02990267 -0.6281479  ...  0.77790809  1.13491106\n",
            "    -0.17860323]\n",
            "   [-0.24910204 -0.45875737 -0.58347756 ... -0.32623306  1.28444326\n",
            "    -0.50259739]\n",
            "   [-0.14128268 -0.65158218 -0.17003256 ... -0.09382356  0.9333154\n",
            "     0.14372575]]\n",
            "\n",
            "  [[ 2.11203456 -0.1170463  -0.17109144 ...  2.77231503  0.53720772\n",
            "    -0.39827573]\n",
            "   [ 0.82893145 -0.52258772 -1.54230678 ...  2.9964819   0.95313847\n",
            "    -0.32006931]\n",
            "   [ 2.37011099 -1.45749044  0.33541381 ...  2.95960808  0.9661839\n",
            "     0.39604104]\n",
            "   ...\n",
            "   [ 2.52314019  0.03111349 -1.6286974  ...  2.32870221  1.77362871\n",
            "     0.20502096]\n",
            "   [ 2.30511928 -0.74425614 -1.68397427 ...  0.68820286  2.58563232\n",
            "    -0.05486786]\n",
            "   [ 2.37636805 -1.56783497 -0.76659375 ...  1.70950174  1.38486302\n",
            "     0.780954  ]]]]\n",
            "\n",
            "Форма 2 (1, 3, 1024)\n",
            "[[[ 0.03572453 -0.00990301 -0.02621324 ...  0.04057361  0.01592834\n",
            "   -0.00146324]\n",
            "  [ 0.03534049 -0.01308795 -0.02404738 ...  0.03979755  0.02221489\n",
            "    0.00907662]\n",
            "  [ 0.03479634 -0.01308124 -0.02802916 ...  0.04492306  0.02223119\n",
            "   -0.00077713]]]\n"
          ]
        }
      ],
      "source": [
        "# Рассмотрим, какие будут результаты при одном и том же предложении\n",
        "# Параметр layers=\"all\"\n",
        "# all: возвращает все слои ELMo для каждого слова \n",
        "sent = [\"Мама кушала кашку\"]\n",
        "lay = \"all\"\n",
        "print_all(sent,layers=lay)"
      ]
    },
    {
      "cell_type": "code",
      "execution_count": 23,
      "metadata": {
        "colab": {
          "base_uri": "https://localhost:8080/"
        },
        "id": "2hBFAb_GTJVE",
        "outputId": "41f3a121-8702-44a1-c8ce-497de411053e"
      },
      "outputs": [
        {
          "name": "stderr",
          "output_type": "stream",
          "text": [
            "2021-11-25 11:30:36,127 : INFO : Warming up ELMo on 2 sentences...\n",
            "2021-11-25 11:30:37,310 : INFO : Warming up finished.\n",
            "2021-11-25 11:30:37,312 : INFO : Texts in the current batch: 2\n",
            "2021-11-25 11:30:39,699 : INFO : Warming up ELMo on 2 sentences...\n",
            "2021-11-25 11:30:40,868 : INFO : Warming up finished.\n",
            "2021-11-25 11:30:40,872 : INFO : Texts in the current batch: 2\n"
          ]
        },
        {
          "name": "stdout",
          "output_type": "stream",
          "text": [
            "Форма 1 (2, 20, 1024)\n",
            "[[[ 1.21803379  0.12034531  0.27359092 ...  1.27048588  0.40137041\n",
            "   -0.2411624 ]\n",
            "  [ 0.28636697 -0.1868158  -0.87329888 ...  1.46091509  0.4474721\n",
            "    0.18993534]\n",
            "  [ 1.31988001 -0.67458642  0.14391178 ...  1.44569957  0.6853888\n",
            "    0.04946895]\n",
            "  ...\n",
            "  [ 0.03854536 -0.00229315 -0.0251717  ... -0.03766255 -0.01689689\n",
            "   -0.02865478]\n",
            "  [ 0.03854536 -0.00229315 -0.0251717  ... -0.03766255 -0.01689689\n",
            "   -0.02865478]\n",
            "  [ 0.03854536 -0.00229315 -0.0251717  ... -0.03766255 -0.01689689\n",
            "   -0.02865478]]\n",
            "\n",
            " [[ 1.12278855 -0.46097356 -0.24961044 ...  1.09524298 -0.04015367\n",
            "    0.2443216 ]\n",
            "  [ 0.35637912 -1.51060128 -0.09913279 ...  1.20242918  0.51706648\n",
            "    0.71460271]\n",
            "  [ 1.33077073 -1.21384656 -0.54691112 ...  1.01443434  0.30869797\n",
            "   -0.04838878]\n",
            "  ...\n",
            "  [ 0.54618758 -0.26440006 -0.67610437 ...  1.73996806 -0.57660973\n",
            "    0.32108623]\n",
            "  [ 1.06461787 -0.54767591 -0.9887085  ...  0.55937326  0.27386793\n",
            "   -0.17969188]\n",
            "  [ 0.60664421 -0.2975128  -0.60639596 ...  1.10324371 -0.43422714\n",
            "    0.44716311]]]\n",
            "\n",
            "Форма 2 (2, 1024)\n",
            "[[ 0.06238613 -0.02111639 -0.0460941  ...  0.07275034  0.03507192\n",
            "   0.0036219 ]\n",
            " [ 0.05012877 -0.03194925 -0.04120366 ...  0.08395316  0.00152665\n",
            "   0.02658092]]\n"
          ]
        }
      ],
      "source": [
        "# Параметр layers=\"average\" по умолчанию\n",
        "# average: возвращает среднее значение всех слоев ELMo для каждого слова\n",
        "sent = [\"Мама кушала кашку\", \"Лучший день на свете\"]\n",
        "print_all(sent)\n",
        "# Обратим внимание, что форма тензора для метода model.get_elmo_vector_average() стала (2, 1024): 2 - показатель количества предложений"
      ]
    },
    {
      "cell_type": "markdown",
      "metadata": {
        "id": "FmwxP5Y_rLx2"
      },
      "source": [
        "Рассмотрим пары предложений похожие в каком-то смысле "
      ]
    },
    {
      "cell_type": "code",
      "execution_count": 24,
      "metadata": {
        "colab": {
          "base_uri": "https://localhost:8080/"
        },
        "id": "N3plfjyKZh8c",
        "outputId": "f01a4eb6-ecdf-465c-955f-ac9351e8639e"
      },
      "outputs": [
        {
          "name": "stderr",
          "output_type": "stream",
          "text": [
            "2021-11-25 11:30:43,194 : INFO : Warming up ELMo on 2 sentences...\n",
            "2021-11-25 11:30:44,383 : INFO : Warming up finished.\n",
            "2021-11-25 11:30:44,385 : INFO : Texts in the current batch: 2\n",
            "2021-11-25 11:30:46,569 : INFO : Warming up ELMo on 2 sentences...\n",
            "2021-11-25 11:30:47,654 : INFO : Warming up finished.\n",
            "2021-11-25 11:30:47,657 : INFO : Texts in the current batch: 2\n"
          ]
        },
        {
          "name": "stdout",
          "output_type": "stream",
          "text": [
            "Форма 1 (2, 16, 1024)\n",
            "[[[ 1.50999749  0.00434289 -0.47437966 ...  1.02929521  0.10363995\n",
            "   -0.04543895]\n",
            "  [ 0.9522227  -0.19060093 -0.31958586 ...  1.74898839 -0.46758637\n",
            "    0.21981508]\n",
            "  [ 1.49147081 -0.86315233 -1.74107122 ...  1.65387774 -0.57883394\n",
            "   -0.41237065]\n",
            "  ...\n",
            "  [ 0.03854536 -0.00229315 -0.0251717  ... -0.03766255 -0.01689689\n",
            "   -0.02865478]\n",
            "  [ 0.03854536 -0.00229315 -0.0251717  ... -0.03766255 -0.01689689\n",
            "   -0.02865478]\n",
            "  [ 0.03854536 -0.00229315 -0.0251717  ... -0.03766255 -0.01689689\n",
            "   -0.02865478]]\n",
            "\n",
            " [[ 1.511392    0.00469531 -0.47423536 ...  1.11301351 -0.061691\n",
            "    0.21061032]\n",
            "  [ 0.95369709 -0.19021724 -0.31866705 ...  1.26734746 -0.30669147\n",
            "    0.38702399]\n",
            "  [ 1.23031437 -0.69505155 -1.29034925 ...  1.69096017 -0.30162787\n",
            "   -0.08336673]\n",
            "  ...\n",
            "  [ 1.19187498 -0.00805476 -1.60843325 ...  1.29232335 -0.1334137\n",
            "    0.46535689]\n",
            "  [ 1.36351621 -0.15618506 -1.20628953 ...  1.00760317  0.15410943\n",
            "    0.17109877]\n",
            "  [ 0.9837063  -0.96303415 -0.5818674  ...  0.50937498  0.67539322\n",
            "    0.44519466]]]\n",
            "\n",
            "Форма 2 (2, 1024)\n",
            "[[ 0.09411824 -0.0319619  -0.10022211 ...  0.09718788 -0.00818967\n",
            "   0.01326387]\n",
            " [ 0.08701886 -0.02731227 -0.09007526 ...  0.10065232 -0.01121445\n",
            "   0.012984  ]]\n"
          ]
        }
      ],
      "source": [
        "# Метод model.get_elmo_vectors() \n",
        "# Создает тензор эмбеддингов контекстуализированных слов\n",
        "# Его форма: (количество предложений/слов, длина самого длинного предложения/слова, размерность вектора)\n",
        "\n",
        "# Метод model.get_elmo_vector_average()\n",
        "# Создает тензор с одним вектором на каждое входное предложение/слово, построенный путем усреднения отдельных эмбеддингов контекстуализированных слов\n",
        "# Его форма: (количество предложений/слов, размерность вектора)\n",
        "\n",
        "# В одном из предложений присутствует частица \"не\"\n",
        "# Параметр layers=\"average\" по умолчанию\n",
        "# average: возвращает среднее значение всех слоев ELMo для каждого слова\n",
        "sent = [\"Я читал книгу\", \"Я не читал книгу\"]\n",
        "print_all(sent)"
      ]
    },
    {
      "cell_type": "code",
      "execution_count": 25,
      "metadata": {
        "colab": {
          "base_uri": "https://localhost:8080/"
        },
        "id": "nC_fhi3ZZwN9",
        "outputId": "22a43ad8-c60b-4179-8346-69770b7eec3f"
      },
      "outputs": [
        {
          "name": "stderr",
          "output_type": "stream",
          "text": [
            "2021-11-25 11:30:49,874 : INFO : Warming up ELMo on 2 sentences...\n",
            "2021-11-25 11:30:50,838 : INFO : Warming up finished.\n",
            "2021-11-25 11:30:50,841 : INFO : Texts in the current batch: 2\n",
            "2021-11-25 11:30:52,901 : INFO : Warming up ELMo on 2 sentences...\n",
            "2021-11-25 11:30:53,857 : INFO : Warming up finished.\n",
            "2021-11-25 11:30:53,861 : INFO : Texts in the current batch: 2\n"
          ]
        },
        {
          "name": "stdout",
          "output_type": "stream",
          "text": [
            "Форма 1 (2, 13, 1024)\n",
            "[[[ 0.36308593 -0.6549347  -0.3720949  ...  0.94567025  0.02395681\n",
            "    0.74077702]\n",
            "  [ 1.02163947 -0.28589642 -1.60488343 ...  1.08577359  0.33685461\n",
            "    0.25858146]\n",
            "  [ 0.81388605 -0.46814319 -0.94228166 ...  1.74841642  0.08146373\n",
            "    0.35960153]\n",
            "  ...\n",
            "  [ 0.71398914 -0.25633281 -0.9709295  ...  0.6056478   1.16871858\n",
            "   -0.48244333]\n",
            "  [ 0.69678932 -1.08480501 -0.29951033 ...  0.51985717  0.67350018\n",
            "    0.44883057]\n",
            "  [ 0.03854536 -0.00229315 -0.0251717  ... -0.03766255 -0.01689689\n",
            "   -0.02865478]]\n",
            "\n",
            " [[ 1.30883336  0.07347453 -0.70617521 ...  1.09469354  0.01452566\n",
            "    0.48258293]\n",
            "  [ 0.69858015 -0.10965562 -1.05394936 ...  1.58727932  0.09384342\n",
            "    0.43290681]\n",
            "  [ 1.07882953 -0.11467993 -0.96647871 ...  1.0836699   0.33530492\n",
            "    0.25825074]\n",
            "  ...\n",
            "  [ 1.06627965 -0.30175439 -1.2163825  ...  0.64827335  0.17704874\n",
            "   -0.29507613]\n",
            "  [ 0.81636775 -0.3168093  -1.0097003  ...  0.60200477  1.15862393\n",
            "   -0.47600314]\n",
            "  [ 0.66934419 -1.08785534 -0.21543601 ...  0.5212003   0.67000401\n",
            "    0.45201927]]]\n",
            "\n",
            "Форма 2 (2, 1024)\n",
            "[[ 0.06157525 -0.03755292 -0.06560257 ...  0.07604178  0.0235135\n",
            "   0.01926315]\n",
            " [ 0.0687545  -0.03384212 -0.06310633 ...  0.08068016  0.02221439\n",
            "   0.01915329]]\n"
          ]
        }
      ],
      "source": [
        "# Рассмотрим паронимы\n",
        "# Параметр layers=\"average\" по умолчанию\n",
        "# average: возвращает среднее значение всех слоев ELMo для каждого слова\n",
        "sent = [\"Одеть одежду\", \"Надеть одежду\"]\n",
        "print_all(sent)"
      ]
    },
    {
      "cell_type": "code",
      "execution_count": 26,
      "metadata": {
        "colab": {
          "base_uri": "https://localhost:8080/"
        },
        "id": "Z0Xz5nVZZ8zC",
        "outputId": "3e942f67-92b8-4e36-cf6d-f07157293ce6"
      },
      "outputs": [
        {
          "name": "stderr",
          "output_type": "stream",
          "text": [
            "2021-11-25 11:30:55,951 : INFO : Warming up ELMo on 2 sentences...\n",
            "2021-11-25 11:30:56,873 : INFO : Warming up finished.\n",
            "2021-11-25 11:30:56,877 : INFO : Texts in the current batch: 2\n",
            "2021-11-25 11:30:58,934 : INFO : Warming up ELMo on 2 sentences...\n",
            "2021-11-25 11:30:59,847 : INFO : Warming up finished.\n",
            "2021-11-25 11:30:59,849 : INFO : Texts in the current batch: 2\n"
          ]
        },
        {
          "name": "stdout",
          "output_type": "stream",
          "text": [
            "Форма 1 (2, 13, 1024)\n",
            "[[[ 1.0331676  -0.0194201  -0.25046059 ...  1.18500733  0.02835329\n",
            "    0.3524363 ]\n",
            "  [ 0.79445273  0.18131417 -0.88850337 ...  1.85531545 -0.19665824\n",
            "    0.41367087]\n",
            "  [ 1.36197495 -0.72780013 -1.2927804  ...  1.55964851 -0.07911699\n",
            "   -0.49729699]\n",
            "  ...\n",
            "  [ 0.91903389 -0.2428152  -0.98895216 ...  0.35941732 -0.55104625\n",
            "    0.04257425]\n",
            "  [ 0.03854536 -0.00229315 -0.0251717  ... -0.03766255 -0.01689689\n",
            "   -0.02865478]\n",
            "  [ 0.03854536 -0.00229315 -0.0251717  ... -0.03766255 -0.01689689\n",
            "   -0.02865478]]\n",
            "\n",
            " [[ 0.13246384 -0.12041797 -0.07945575 ...  0.87101662 -0.29434252\n",
            "    0.5859133 ]\n",
            "  [ 0.22509664  0.5808211  -0.09835473 ...  1.33660841 -0.49546051\n",
            "    0.36633974]\n",
            "  [ 0.52405572  0.48159078 -1.28250277 ...  1.38964438 -0.11454862\n",
            "    0.42704687]\n",
            "  ...\n",
            "  [ 0.86442661 -0.78203392 -0.78487515 ...  0.77476352 -0.36430609\n",
            "    0.58115381]\n",
            "  [ 1.12918091 -0.50964582 -1.20463681 ...  0.71262717 -0.592291\n",
            "    0.32500583]\n",
            "  [ 0.7960186  -0.3087236  -0.68648887 ...  0.36141309 -0.57433224\n",
            "    0.04663216]]]\n",
            "\n",
            "Форма 2 (2, 1024)\n",
            "[[ 0.07365139 -0.02859078 -0.07862897 ...  0.09194263 -0.01559757\n",
            "   0.01506183]\n",
            " [ 0.05395326 -0.00533168 -0.06962782 ...  0.09838163 -0.02190533\n",
            "   0.01597373]]\n"
          ]
        }
      ],
      "source": [
        "# Одно слово представлено двумя разными частями речи\n",
        "# Параметр layers=\"average\" по умолчанию\n",
        "# average: возвращает среднее значение всех слоев ELMo для каждого слова\n",
        "sent = [\"Печь пироги\", \"В печи пироги\"]\n",
        "print_all(sent)"
      ]
    },
    {
      "cell_type": "code",
      "execution_count": 27,
      "metadata": {
        "colab": {
          "base_uri": "https://localhost:8080/"
        },
        "id": "qLH-JgDSaGTn",
        "outputId": "7d6f456a-7820-4f70-b339-9a9898efbe6b"
      },
      "outputs": [
        {
          "name": "stderr",
          "output_type": "stream",
          "text": [
            "2021-11-25 11:31:01,988 : INFO : Warming up ELMo on 2 sentences...\n",
            "2021-11-25 11:31:02,937 : INFO : Warming up finished.\n",
            "2021-11-25 11:31:02,939 : INFO : Texts in the current batch: 2\n",
            "2021-11-25 11:31:05,078 : INFO : Warming up ELMo on 2 sentences...\n",
            "2021-11-25 11:31:06,025 : INFO : Warming up finished.\n",
            "2021-11-25 11:31:06,028 : INFO : Texts in the current batch: 2\n"
          ]
        },
        {
          "name": "stdout",
          "output_type": "stream",
          "text": [
            "Форма 1 (2, 13, 1024)\n",
            "[[[ 1.09426141 -0.61074841 -0.3600682  ...  0.83122581 -0.54870903\n",
            "    0.29751059]\n",
            "  [ 0.98816288 -0.29558954 -1.32768273 ...  1.23257565 -0.3879118\n",
            "    0.5784837 ]\n",
            "  [ 1.71820784  0.10200839 -0.87923306 ...  1.02062976 -0.27827477\n",
            "    0.87293112]\n",
            "  ...\n",
            "  [ 1.07387447 -0.47211525 -1.31270874 ...  0.96817422  0.42169142\n",
            "    0.08948752]\n",
            "  [ 0.80461502 -0.20159398 -1.15873253 ...  0.73755318  0.50422949\n",
            "   -0.27866012]\n",
            "  [ 0.58040345 -1.01684928 -0.76550347 ...  0.52120966  0.66918331\n",
            "    0.44515824]]\n",
            "\n",
            " [[ 1.30865955  0.07395238 -0.70444292 ...  1.03191829 -0.06038348\n",
            "    0.21893382]\n",
            "  [ 0.70051289 -0.10695183 -1.05252469 ...  1.13770795  0.12590238\n",
            "    0.05951384]\n",
            "  [ 1.18103158 -0.3749975  -1.03725147 ...  1.14835334 -0.12642895\n",
            "   -0.13801768]\n",
            "  ...\n",
            "  [ 0.87365067 -0.40505311 -1.45086789 ...  0.96640766  0.42119437\n",
            "    0.08958767]\n",
            "  [ 0.58710182 -0.0716801  -1.2539233  ...  0.7353096   0.50198972\n",
            "   -0.27731705]\n",
            "  [ 0.36925504 -1.01441646 -0.75956899 ...  0.52012038  0.66644412\n",
            "    0.44903392]]]\n",
            "\n",
            "Форма 2 (2, 1024)\n",
            "[[ 0.07337996 -0.02250371 -0.0699141  ...  0.07174434 -0.00102172\n",
            "   0.02607521]\n",
            " [ 0.07045954 -0.02419422 -0.08910744 ...  0.07145866  0.01875244\n",
            "   0.00711175]]\n"
          ]
        }
      ],
      "source": [
        "# Рассмотрим омонимы\n",
        "# Параметр layers=\"average\" по умолчанию\n",
        "# average: возвращает среднее значение всех слоев ELMo для каждого слова\n",
        "sent = [\"Заплести косу\", \"Наточить косу\"]\n",
        "print_all(sent)"
      ]
    },
    {
      "cell_type": "code",
      "execution_count": 28,
      "metadata": {
        "colab": {
          "base_uri": "https://localhost:8080/"
        },
        "id": "Dn1V2QW9fMz5",
        "outputId": "4a74201b-d566-4485-8bf6-8965369dff77"
      },
      "outputs": [
        {
          "name": "stderr",
          "output_type": "stream",
          "text": [
            "2021-11-25 11:31:08,120 : INFO : Warming up ELMo on 2 sentences...\n",
            "2021-11-25 11:31:10,023 : INFO : Warming up finished.\n",
            "2021-11-25 11:31:10,026 : INFO : Texts in the current batch: 2\n"
          ]
        },
        {
          "name": "stdout",
          "output_type": "stream",
          "text": [
            "[[ 0.08482271 -0.0428218  -0.06843564 ...  0.0573679  -0.0192524\n",
            "   0.00060864]\n",
            " [ 0.06091217 -0.02845944 -0.05254971 ...  0.08636661 -0.02905955\n",
            "   0.00241671]]\n",
            "0.7712607496273405\n"
          ]
        }
      ],
      "source": [
        "# Посчитаем косинусную близость для двух разных предложений\n",
        "import numpy as np\n",
        "sent = [\"Ясная погода\", \"Хорошее психологическое состояние человека\"]\n",
        "lay = \"top\"\n",
        "a = model.get_elmo_vector_average(sent, layers=lay)\n",
        "print(a)\n",
        "print(np.dot(a[0], a[1]) / (np.linalg.norm(a[0])*np.linalg.norm(a[1])))"
      ]
    },
    {
      "cell_type": "code",
      "execution_count": 29,
      "metadata": {
        "colab": {
          "base_uri": "https://localhost:8080/"
        },
        "id": "eBA6AK_7dIvb",
        "outputId": "6a74514d-9f29-453f-aaa6-0c4356bae7bb"
      },
      "outputs": [
        {
          "name": "stderr",
          "output_type": "stream",
          "text": [
            "2021-11-25 11:31:13,159 : INFO : Warming up ELMo on 2 sentences...\n",
            "2021-11-25 11:31:14,113 : INFO : Warming up finished.\n",
            "2021-11-25 11:31:14,116 : INFO : Texts in the current batch: 2\n"
          ]
        },
        {
          "name": "stdout",
          "output_type": "stream",
          "text": [
            "0.9768334688200245\n"
          ]
        }
      ],
      "source": [
        "# Посчитаем косинусную близость для двух похожих предложений\n",
        "sent = [\"Одеть одежду\", \"Надеть одежду\"]\n",
        "lay = \"top\"\n",
        "a = model.get_elmo_vector_average(sent, layers=lay)\n",
        "print(np.dot(a[0], a[1]) / (np.linalg.norm(a[0])*np.linalg.norm(a[1])))"
      ]
    }
  ],
  "metadata": {
    "colab": {
      "collapsed_sections": [],
      "name": "RusVectors.ipynb",
      "provenance": []
    },
    "kernelspec": {
      "display_name": "Python 3",
      "name": "python3"
    },
    "language_info": {
      "name": "python"
    }
  },
  "nbformat": 4,
  "nbformat_minor": 0
}
